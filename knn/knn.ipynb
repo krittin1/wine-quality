{
 "cells": [
  {
   "cell_type": "markdown",
   "metadata": {},
   "source": [
    " # Nearest Neighbors\n",
    "\n",
    " ## Wine Quality Data set \n",
    " \n",
    " #### Krittin Kanokwilairat   &emsp; 59104540026   &emsp; section 200\n"
   ]
  },
  {
   "cell_type": "markdown",
   "metadata": {},
   "source": [
    "\n",
    "- ชุดข้อมูลจากเว็บ UCI machine learning repository\n",
    "\n",
    "\n",
    "- Preprocess dataset ในกรณีที่คิดว่าจําเป็น\n",
    "- เขียนโปรแกรมภาษา Python โดยเรียกใช้  k-Nearest Neighbors algorithm จาก scikit-learn\n",
    "\n",
    "\n",
    "- อธิบายการทํา preprocess\n",
    "\n",
    "- ผลการทดลองแสดงค่า accuracy\n"
   ]
  },
  {
   "cell_type": "markdown",
   "metadata": {},
   "source": [
    "### ทำการนำ dataset เข้ามา process ทำการ pre processing\n",
    "\n",
    "\n"
   ]
  },
  {
   "cell_type": "markdown",
   "metadata": {},
   "source": [
    "## แยก 12 attrtibutes ออกเป็น features และ target classes\n",
    "## โดย features มีดังนี้\n",
    " - fixed acidity                                   หมายถึง ค่าของ fixed acidity\n",
    " - volatile acidity       หมายถึง ค่าของ volatile acidity\n",
    " - citric acid            หมายถึง ค่ากรด citric acid\n",
    " - residual sugar         หมายถึง ค่าน้ำตาลที่ตกค้าง\n",
    " - chlorides              หมายถึง ค่า chlorides\n",
    " - free sulfur dioxide    หมายถึง ค่า free sulfur dioxide\n",
    " - total sulfur dioxide   หมายถึงค่า sulfer dioxide รวม\n",
    " - density                หมายถึงค่า ความหนาแน่น\n",
    " - pH                     หมายถึงค่า pH ระหว่าง 1-7 ความเป็นกรดด่าง\n",
    " - sulphates              หมายถึงค่า sulphates\n",
    " - alcohol                หมายถึงค่า alcohol\n",
    " ### ทั้งหมด 11 featues\n",
    " \n",
    " ## target classes มีดังนี้\n",
    " - quality (score between 0 and 10)\n",
    "\n",
    "\n",
    "\n",
    "\n",
    "\n",
    "\n",
    "\n",
    "\n",
    "\n",
    "\n",
    "\n",
    "\n",
    "\n",
    "\n",
    "\n",
    "\n",
    "\n"
   ]
  },
  {
   "cell_type": "code",
   "execution_count": 1,
   "metadata": {},
   "outputs": [
    {
     "name": "stderr",
     "output_type": "stream",
     "text": [
      "C:\\Users\\Tee\\Anaconda3\\envs\\PythonGPU\\lib\\site-packages\\sklearn\\externals\\six.py:31: FutureWarning: The module is deprecated in version 0.21 and will be removed in version 0.23 since we've dropped support for Python 2.7. Please rely on the official version of six (https://pypi.org/project/six/).\n",
      "  \"(https://pypi.org/project/six/).\", FutureWarning)\n"
     ]
    }
   ],
   "source": [
    "#  import library\n",
    "import pandas as pd\n",
    "from sklearn import metrics \n",
    "from sklearn.externals.six import StringIO\n",
    "from IPython.display import Image\n",
    "from sklearn.tree import export_graphviz\n",
    "import pydotplus\n",
    "import sklearn.datasets as datasets\n",
    "\n",
    "#  import data set\n",
    "headers = ['fixed acidity','volatile acidity','citric acid','residual sugar','chlorides','free sulfur dioxide', 'total sulfur dioxide', 'density' , 'pH',  'sulphates',  'alcohol', 'quality']\n",
    "\n",
    "df = pd.read_csv(\"winequality-red.csv\",sep= ';', header=None, names=headers)\n",
    "\n",
    "\n",
    "\n",
    "\n",
    "features = ['fixed acidity','volatile acidity','citric acid','residual sugar','chlorides','free sulfur dioxide', 'total sulfur dioxide', 'density' , 'pH',  'sulphates',  'alcohol','quality' ]\n",
    "X = df[features]\n",
    "y = df.quality \n"
   ]
  },
  {
   "cell_type": "code",
   "execution_count": 2,
   "metadata": {},
   "outputs": [],
   "source": [
    "\n",
    "import numpy as np\n",
    "import pandas as pd\n",
    "from sklearn.naive_bayes import GaussianNB\n",
    "\n",
    "from sklearn.model_selection import cross_validate\n",
    "\n",
    "import matplotlib.pyplot as plt\n",
    "%matplotlib inline\n",
    "\n"
   ]
  },
  {
   "cell_type": "markdown",
   "metadata": {},
   "source": [
    "### การทำ preprocess dataset "
   ]
  },
  {
   "cell_type": "code",
   "execution_count": 3,
   "metadata": {},
   "outputs": [],
   "source": [
    "def  preprocessing(train):\n",
    "\n",
    "    ls = []\n",
    "    for i in train:\n",
    "        if int(i) > 5 :\n",
    "            i = '1'\n",
    "        else:\n",
    "            i = '0'\n",
    "        \n",
    "        ls.append(i)\n",
    "        \n",
    "        \n",
    "   \n",
    "\n",
    "\n",
    "\n",
    "    return ls"
   ]
  },
  {
   "cell_type": "code",
   "execution_count": 4,
   "metadata": {},
   "outputs": [
    {
     "name": "stdout",
     "output_type": "stream",
     "text": [
      "['0', '0', '0', '1', '0', '0', '0', '1', '1', '0', '0', '0', '0', '0', '0', '0', '1', '0', '0', '1', '1', '0', '0', '0', '1', '0', '0', '0', '0', '1', '0', '1', '0', '1', '0', '1', '1', '1', '0', '0', '0', '0', '1', '0', '0', '0', '0', '0', '0', '0', '0', '1', '1', '0', '1', '0', '0', '0', '0', '1', '0', '0', '1', '0', '0', '0', '0', '0', '0', '1', '1', '0', '0', '0', '0', '0', '0', '1', '0', '0', '0', '0', '0', '0', '1', '0', '1', '0', '0', '0', '0', '1', '0', '0', '0', '1', '0', '0', '0', '1', '1', '1', '1', '0', '0', '0', '0', '0', '1', '0', '0', '0', '0', '1', '0', '1', '1', '1', '1', '1', '0', '1', '0', '0', '0', '0', '0', '0', '1', '0', '0', '0', '0', '1', '1', '0', '0', '0', '0', '0', '0', '0', '1', '0', '1', '0', '0', '0', '1', '1', '1', '0', '0', '0', '0', '0', '0', '0', '0', '1', '0', '0', '1', '0', '0', '0', '0', '0', '1', '0', '0', '1', '1', '1', '0', '0', '0', '1', '0', '0', '0', '0', '0', '0', '1', '0', '0', '0', '0', '0', '0', '1', '0', '0', '0', '0', '0', '1', '1', '0', '1', '0', '0', '0', '1', '1', '1', '0', '0', '1', '1', '1', '1', '0', '1', '0', '0', '0', '0', '0', '1', '0', '0', '1', '0', '1', '1', '0', '1', '0', '1', '1', '1', '0', '1', '1', '1', '1', '1', '1', '0', '1', '1', '1', '1', '1', '0', '0', '1', '1', '1', '1', '0', '0', '1', '0', '0', '0', '0', '1', '0', '0', '0', '0', '0', '1', '0', '1', '1', '1', '1', '1', '0', '0', '0', '1', '1', '1', '1', '1', '1', '1', '0', '1', '0', '0', '1', '1', '1', '0', '1', '0', '1', '1', '1', '0', '0', '0', '0', '0', '1', '1', '0', '0', '0', '1', '0', '1', '1', '1', '1', '1', '1', '0', '0', '1', '0', '1', '1', '1', '1', '0', '0', '1', '1', '1', '1', '0', '1', '0', '1', '1', '1', '0', '1', '1', '1', '0', '1', '1', '1', '1', '1', '1', '1', '0', '1', '1', '1', '1', '1', '1', '0', '0', '1', '1', '0', '1', '1', '1', '0', '1', '0', '0', '1', '1', '1', '0', '0', '1', '0', '1', '1', '0', '1', '1', '1', '1', '1', '1', '1', '1', '1', '1', '0', '1', '1', '1', '1', '1', '1', '1', '0', '0', '0', '1', '0', '1', '1', '0', '0', '1', '1', '1', '0', '1', '1', '1', '1', '0', '1', '0', '0', '1', '0', '0', '1', '0', '1', '0', '1', '1', '0', '1', '0', '1', '1', '1', '0', '1', '1', '0', '1', '0', '1', '0', '1', '1', '1', '0', '1', '1', '1', '1', '1', '1', '0', '0', '1', '1', '1', '1', '1', '1', '0', '1', '0', '0', '1', '0', '1', '0', '0', '0', '1', '0', '1', '1', '1', '0', '0', '1', '1', '0', '1', '0', '0', '1', '0', '1', '0', '1', '0', '0', '1', '0', '0', '1', '1', '1', '1', '1', '1', '1', '1', '1', '1', '0', '1', '1', '1', '1', '1', '1', '1', '1', '1', '1', '1', '1', '0', '1', '1', '1', '1', '0', '1', '0', '1', '0', '1', '0', '0', '0', '0', '0', '0', '1', '1', '0', '1', '0', '0', '1', '1', '1', '0', '1', '1', '0', '0', '1', '0', '1', '1', '0', '1', '1', '1', '1', '1', '1', '1', '0', '0', '0', '1', '0', '1', '1', '0', '0', '0', '1', '1', '0', '1', '1', '1', '1', '1', '1', '0', '0', '1', '1', '0', '0', '0', '1', '0', '0', '0', '1', '1', '1', '1', '0', '1', '1', '0', '1', '0', '0', '0', '0', '1', '1', '1', '1', '0', '1', '0', '1', '1', '1', '1', '1', '1', '1', '0', '0', '1', '0', '1', '0', '0', '1', '0', '0', '0', '0', '0', '1', '0', '0', '0', '0', '1', '0', '1', '0', '1', '0', '0', '0', '0', '0', '1', '1', '0', '0', '0', '0', '0', '1', '0', '0', '1', '1', '0', '0', '0', '1', '0', '0', '0', '1', '1', '0', '1', '0', '1', '1', '0', '0', '1', '1', '0', '1', '0', '0', '0', '0', '1', '0', '1', '0', '0', '0', '0', '1', '0', '0', '0', '0', '0', '0', '0', '0', '0', '0', '0', '0', '0', '1', '1', '1', '0', '1', '1', '1', '1', '0', '0', '0', '0', '0', '1', '1', '0', '0', '0', '0', '0', '1', '0', '0', '0', '0', '0', '0', '0', '0', '0', '0', '1', '0', '0', '1', '0', '0', '0', '0', '0', '0', '0', '1', '0', '0', '1', '0', '0', '0', '0', '1', '1', '0', '1', '1', '0', '0', '0', '0', '1', '1', '1', '0', '0', '0', '0', '0', '1', '0', '1', '1', '0', '0', '1', '0', '1', '0', '0', '1', '1', '0', '1', '1', '0', '0', '1', '0', '0', '0', '0', '0', '0', '1', '1', '0', '1', '0', '1', '0', '1', '0', '0', '1', '1', '1', '0', '0', '1', '1', '1', '1', '1', '1', '0', '1', '0', '1', '0', '0', '1', '0', '1', '1', '0', '0', '0', '1', '0', '0', '0', '0', '1', '0', '1', '1', '0', '1', '0', '0', '0', '0', '1', '1', '1', '0', '1', '0', '1', '0', '1', '0', '0', '1', '0', '0', '0', '0', '0', '1', '1', '1', '1', '1', '1', '1', '0', '1', '0', '0', '0', '0', '1', '1', '1', '1', '1', '0', '0', '1', '1', '1', '0', '1', '1', '0', '0', '1', '1', '0', '1', '0', '1', '1', '1', '0', '0', '0', '1', '0', '1', '1', '1', '1', '1', '0', '0', '1', '1', '1', '1', '0', '0', '1', '1', '1', '1', '1', '1', '1', '1', '1', '0', '1', '1', '1', '0', '1', '1', '1', '0', '1', '1', '0', '0', '1', '0', '0', '1', '0', '0', '1', '1', '0', '1', '0', '1', '1', '1', '1', '1', '1', '1', '1', '1', '1', '1', '1', '1', '1', '1', '0', '1', '1', '1', '0', '1', '0', '0', '1', '1', '1', '1', '0', '1', '0', '1', '1', '1', '0', '1', '0', '0', '0', '1', '0', '1', '0', '1', '1', '0', '1', '1', '0', '0', '1', '0', '0', '1', '0', '0', '1', '1', '1', '1', '1', '1', '1', '1', '1', '0', '1', '1', '1', '1', '0', '1', '1', '0', '1', '1', '1', '1', '1', '1', '0', '1', '1', '0', '1', '1', '1', '1', '0', '1', '1', '1', '1', '0', '1', '1', '1', '1', '0', '1', '1', '0', '1', '1', '1', '1', '1', '1', '0', '1', '1', '0', '0', '0', '1', '1', '1', '1', '0', '1', '1', '1', '1', '1', '1', '1', '1', '1', '1', '1', '0', '1', '0', '1', '1', '0', '1', '1', '0', '0', '1', '1', '1', '1', '1', '1', '0', '1', '1', '1', '1', '1', '1', '1', '1', '1', '0', '1', '0', '1', '0', '1', '1', '1', '1', '1', '0', '1', '1', '0', '1', '1', '1', '1', '1', '1', '1', '1', '1', '1', '0', '1', '1', '1', '1', '0', '1', '1', '1', '0', '1', '1', '0', '1', '1', '1', '1', '1', '1', '0', '1', '1', '1', '1', '1', '0', '1', '1', '1', '1', '1', '1', '1', '0', '1', '1', '0', '1', '1', '1', '0', '1', '1', '1', '0', '0', '0', '0', '1', '1', '1', '1', '1', '1', '1', '1', '1', '0', '1', '0', '1', '1', '0', '1', '0', '0', '1', '0', '1', '0', '0', '1', '0', '1', '0', '1', '1', '1', '1', '1', '1', '1', '1', '1', '0', '1', '1', '1', '0', '1', '1', '1', '0', '1', '1', '1', '1', '1', '1', '1', '1', '1', '1', '1', '1', '1', '0', '0', '0', '1', '0', '1', '0', '0', '0', '1', '0', '1', '1', '0', '0', '0', '0', '1', '0', '1', '0', '0', '0', '1', '1', '1', '0', '0', '0', '0', '0', '0', '1', '1', '1', '0', '0', '0', '0', '1', '1', '1', '1', '1', '1', '1', '1', '0', '0', '1', '1', '0', '1', '1', '1', '1', '1', '1', '1', '0', '0', '1', '0', '0', '0', '0', '1', '1', '0', '1', '0', '0', '1', '1', '0', '1', '1', '1', '0', '0', '0', '0', '0', '0', '0', '0', '1', '0', '1', '1', '1', '1', '1', '1', '1', '0', '1', '0', '1', '1', '1', '1', '1', '0', '1', '1', '0', '1', '0', '0', '1', '0', '0', '0', '1', '1', '1', '1', '1', '0', '1', '0', '0', '0', '0', '0', '1', '0', '0', '0', '0', '0', '1', '0', '1', '0', '0', '1', '0', '1', '0', '0', '1', '1', '0', '0', '1', '0', '0', '0', '0', '0', '1', '1', '1', '1', '0', '0', '0', '0', '0', '0', '0', '0', '0', '1', '0', '0', '0', '0', '1', '0', '0', '1', '1', '0', '0', '1', '1', '1', '1', '1', '1', '1', '1', '1', '1', '1', '0', '0', '0', '0', '1', '0', '0', '0', '0', '1', '0', '1', '1', '1', '0', '0', '0', '0', '1', '1', '1', '1', '1', '0', '0', '0', '1', '1', '1', '0', '0', '1', '1', '0', '0', '0', '1', '1', '1', '1', '0', '1', '1', '1', '0', '0', '1', '1', '0', '1', '1', '0', '0', '1', '0', '1', '0', '0', '0', '1', '0', '0', '1', '0', '1', '0', '0', '0', '0', '0', '0', '0', '0', '0', '0', '0', '1', '1', '0', '0', '0', '1', '1', '0', '1', '1', '1', '0', '0', '0', '1', '1', '0', '1', '1', '1', '0', '1', '0', '1', '1', '1', '1', '0', '1', '0', '0', '1', '0', '0', '0', '1', '0', '1', '1', '1', '1', '1', '0', '1', '0', '1', '1', '1', '1', '0', '0', '1', '1', '1', '1', '1', '1', '0', '0', '0', '1', '0', '0', '1', '0', '1', '1', '0', '1', '0', '0', '0', '0', '0', '0', '0', '1', '1', '0', '0', '1', '1', '1', '0', '1', '1', '1', '1', '1', '1', '0', '1', '0', '0', '0', '1', '1', '1', '1', '1', '0', '1', '1', '1', '1', '0', '1', '1', '0', '1']\n"
     ]
    }
   ],
   "source": [
    "y= preprocessing(y)\n",
    "print(y)"
   ]
  },
  {
   "cell_type": "code",
   "execution_count": 5,
   "metadata": {},
   "outputs": [],
   "source": [
    "from sklearn.model_selection import train_test_split\n",
    "from sklearn import neighbors\n",
    "X_train, X_test, y_train, y_test = train_test_split(X, y, test_size=0.1, random_state=1) # 90% training and 10% test\n",
    "modelNeighbors_k1 = neighbors.KNeighborsClassifier(n_neighbors=1, weights='uniform')\n",
    "modelNeighbors_k3 = neighbors.KNeighborsClassifier(n_neighbors=3, weights='uniform')\n",
    "modelNeighbors_k5 = neighbors.KNeighborsClassifier(n_neighbors=5, weights='uniform')\n",
    "modelNeighbors_k5d = neighbors.KNeighborsClassifier(n_neighbors=5, weights='distance')\n"
   ]
  },
  {
   "cell_type": "markdown",
   "metadata": {},
   "source": []
  },
  {
   "cell_type": "markdown",
   "metadata": {},
   "source": [
    "## k-Nearest Neighbor  model\n",
    "#### ขั้นตอนวิธีการเพื่อนบ้านที่ใกล้ที่สุด (K-Nearest Neighbour Algorithm) จะใช้ในการจัดแบ่ง class เทคนิคนี้จะตัดสินใจว่า คลาสใดที่จะแทนเงื่อนไขหรือกรณีใหม่ๆ ได้บ้าง โดยหลักการค้นหาตัวอย่างที่มีความคล้ายตัวอย่างที่ต้องการจำแนกโดยใช้การเปรียบเทียบระยะห่างระหว่าง train set กับ test set โดยตัวอย่างที่อยู่ใกล้ที่สุดจะเรียกว่า nearest neighbor\n",
    "\n",
    "\n",
    "#### ค่า k มีความสำคัญต่อผลลัพธ์การจำแนก และส่งผลต่อประสิทธิภาพของความถูกต้องแม่นยำ accuracy ของการจำแนก\n",
    "#### โดยจะกำหนดค่า k เป็นเลขคี่ เช่น 1 3 5 โดยอาจใช้วิธี เสียงส่วนใหญ่ majority vote  บางครั้งการกำหนดค่า k = 1 อาจไม่ดีเนื่องจากภายใน data set อาจมี noise อยู่ โดย KNN algorithm เหมาะกับปัญหาด้าน  classification และ regression\n",
    "\n",
    "#### KNeighborsClassifier จะเป็นการกำหนดจำนวนของเพื่อนบ้าน\n",
    "#### RadiusNeighborsClassifier จะเป็นการกำหนดระยะทางว่ามีเพื่อนบ้านอยู่กี่คน\n",
    "\n",
    "#### การกำหนดการใช้ weighted vote\n",
    "- uniform โดยทั่วไปมักใช้ ทุก weights มีความสำคัญเท่ากันหมด ยึดผลการ vote ส่วนใหญ่\n",
    "- distance จะมีความสำคัญไม่เท่ากัน เพื่อนบ้านที่อยู่ใกล้ที่สุด คะแนน vote จะมากกว่าและสำคัญกว่าคนที่อยู่ไกล\n"
   ]
  },
  {
   "cell_type": "markdown",
   "metadata": {},
   "source": [
    "####  กรณีนี้จะให้ค่า k = 1, 3, 5 และให้ค่า weights เป็นแบบ uniform และ distance"
   ]
  },
  {
   "cell_type": "code",
   "execution_count": 9,
   "metadata": {},
   "outputs": [
    {
     "name": "stdout",
     "output_type": "stream",
     "text": [
      "k = 1: \n",
      "[0.7375     0.79375    0.75       0.71875    0.7375     0.75\n",
      " 0.7375     0.70625    0.725      0.74842767]\n",
      "k = 3: \n",
      "[0.725      0.79375    0.79375    0.7        0.80625    0.75625\n",
      " 0.6125     0.7        0.7        0.72327044]\n",
      "k = 5: \n",
      "[0.7       0.79375   0.79375   0.6875    0.7125    0.775     0.63125\n",
      " 0.675     0.64375   0.6918239]\n",
      "k = 5 weghted by distance: \n",
      "[0.725      0.8125     0.7875     0.7125     0.74375    0.76875\n",
      " 0.63125    0.6875     0.675      0.72327044]\n"
     ]
    }
   ],
   "source": [
    "from sklearn.model_selection import cross_val_score\n",
    "\n",
    "\n",
    "modelNeighborsCV_k1 = cross_val_score(modelNeighbors_k1,X,y,cv=10)\n",
    "modelNeighborsCV_k3 = cross_val_score(modelNeighbors_k3,X,y,cv=10)\n",
    "modelNeighborsCV_k5 = cross_val_score(modelNeighbors_k5,X,y,cv=10)\n",
    "modelNeighborsCV_k5d = cross_val_score(modelNeighbors_k5d,X,y,cv=10)\n",
    "\n",
    "\n",
    "print('k = 1: ')\n",
    "print(modelNeighborsCV_k1)\n",
    "print('k = 3: ')\n",
    "print(modelNeighborsCV_k3)\n",
    "print('k = 5: ')\n",
    "print(modelNeighborsCV_k5)\n",
    "print('k = 5 weghted by distance: ')\n",
    "print(modelNeighborsCV_k5d)"
   ]
  },
  {
   "cell_type": "markdown",
   "metadata": {},
   "source": [
    "### ทำการทดลองแบบ cross validation\n",
    "#### โดยจะใช้หลัก k-Fold Cross Validation กำหนดให้ ค่า k = 10 แบ่งข้อมูลเป็น 10 ส่วนเพื่อสร้างและทดสอบ model\n",
    "##### จะแสดงค่า accuracy metric ของแต่ละ fold "
   ]
  },
  {
   "cell_type": "code",
   "execution_count": 13,
   "metadata": {},
   "outputs": [
    {
     "name": "stdout",
     "output_type": "stream",
     "text": [
      "k = 1: \n"
     ]
    },
    {
     "data": {
      "text/plain": [
       "[<matplotlib.lines.Line2D at 0x1b76776d630>]"
      ]
     },
     "execution_count": 13,
     "metadata": {},
     "output_type": "execute_result"
    },
    {
     "data": {
      "image/png": "[encoded data removed]",
      "text/plain": [
       "<Figure size 432x288 with 1 Axes>"
      ]
     },
     "metadata": {
      "needs_background": "light"
     },
     "output_type": "display_data"
    }
   ],
   "source": [
    "\n",
    "print('k = 1: ')\n",
    "plt.plot(modelNeighborsCV_k1)\n",
    "\n",
    "\n",
    "\n",
    "\n"
   ]
  },
  {
   "cell_type": "code",
   "execution_count": 14,
   "metadata": {},
   "outputs": [
    {
     "name": "stdout",
     "output_type": "stream",
     "text": [
      "k = 3: \n"
     ]
    },
    {
     "data": {
      "text/plain": [
       "[<matplotlib.lines.Line2D at 0x1b7677c1780>]"
      ]
     },
     "execution_count": 14,
     "metadata": {},
     "output_type": "execute_result"
    },
    {
     "data": {
      "image/png": "[encoded data removed]",
      "text/plain": [
       "<Figure size 432x288 with 1 Axes>"
      ]
     },
     "metadata": {
      "needs_background": "light"
     },
     "output_type": "display_data"
    }
   ],
   "source": [
    "print('k = 3: ')\n",
    "plt.plot(modelNeighborsCV_k3)"
   ]
  },
  {
   "cell_type": "code",
   "execution_count": 15,
   "metadata": {},
   "outputs": [
    {
     "name": "stdout",
     "output_type": "stream",
     "text": [
      "k = 5: \n"
     ]
    },
    {
     "data": {
      "text/plain": [
       "[<matplotlib.lines.Line2D at 0x1b76781af98>]"
      ]
     },
     "execution_count": 15,
     "metadata": {},
     "output_type": "execute_result"
    },
    {
     "data": {
      "image/png": "[encoded data removed]",
      "text/plain": [
       "<Figure size 432x288 with 1 Axes>"
      ]
     },
     "metadata": {
      "needs_background": "light"
     },
     "output_type": "display_data"
    }
   ],
   "source": [
    "print('k = 5: ')\n",
    "plt.plot(modelNeighborsCV_k5)"
   ]
  },
  {
   "cell_type": "code",
   "execution_count": 16,
   "metadata": {},
   "outputs": [
    {
     "name": "stdout",
     "output_type": "stream",
     "text": [
      "k = 5 weghted by distance: \n"
     ]
    },
    {
     "data": {
      "text/plain": [
       "[<matplotlib.lines.Line2D at 0x1b76787bac8>]"
      ]
     },
     "execution_count": 16,
     "metadata": {},
     "output_type": "execute_result"
    },
    {
     "data": {
      "image/png": "[encoded data removed]",
      "text/plain": [
       "<Figure size 432x288 with 1 Axes>"
      ]
     },
     "metadata": {
      "needs_background": "light"
     },
     "output_type": "display_data"
    }
   ],
   "source": [
    "print('k = 5 weghted by distance: ')\n",
    "plt.plot(modelNeighborsCV_k5d)"
   ]
  },
  {
   "cell_type": "code",
   "execution_count": null,
   "metadata": {},
   "outputs": [],
   "source": []
  },
  {
   "cell_type": "code",
   "execution_count": 17,
   "metadata": {},
   "outputs": [
    {
     "name": "stdout",
     "output_type": "stream",
     "text": [
      "k = 1: \n"
     ]
    },
    {
     "data": {
      "text/plain": [
       "[<matplotlib.lines.Line2D at 0x1b7678e1208>]"
      ]
     },
     "execution_count": 17,
     "metadata": {},
     "output_type": "execute_result"
    },
    {
     "data": {
      "image/png": "[encoded data removed]",
      "text/plain": [
       "<Figure size 432x288 with 1 Axes>"
      ]
     },
     "metadata": {
      "needs_background": "light"
     },
     "output_type": "display_data"
    }
   ],
   "source": [
    "print('k = 1: ')\n",
    "plt.plot(modelNeighborsCV_k1, \"p\")"
   ]
  },
  {
   "cell_type": "code",
   "execution_count": 18,
   "metadata": {},
   "outputs": [
    {
     "name": "stdout",
     "output_type": "stream",
     "text": [
      "k = 3: \n"
     ]
    },
    {
     "data": {
      "text/plain": [
       "[<matplotlib.lines.Line2D at 0x1b767939400>]"
      ]
     },
     "execution_count": 18,
     "metadata": {},
     "output_type": "execute_result"
    },
    {
     "data": {
      "image/png": "[encoded data removed]",
      "text/plain": [
       "<Figure size 432x288 with 1 Axes>"
      ]
     },
     "metadata": {
      "needs_background": "light"
     },
     "output_type": "display_data"
    }
   ],
   "source": [
    "print('k = 3: ')\n",
    "plt.plot(modelNeighborsCV_k1, \"p\")"
   ]
  },
  {
   "cell_type": "code",
   "execution_count": 19,
   "metadata": {},
   "outputs": [
    {
     "name": "stdout",
     "output_type": "stream",
     "text": [
      "k = 5: \n"
     ]
    },
    {
     "data": {
      "text/plain": [
       "[<matplotlib.lines.Line2D at 0x1b7679895c0>]"
      ]
     },
     "execution_count": 19,
     "metadata": {},
     "output_type": "execute_result"
    },
    {
     "data": {
      "image/png": "[encoded data removed]",
      "text/plain": [
       "<Figure size 432x288 with 1 Axes>"
      ]
     },
     "metadata": {
      "needs_background": "light"
     },
     "output_type": "display_data"
    }
   ],
   "source": [
    "print('k = 5: ')\n",
    "plt.plot(modelNeighborsCV_k1, \"p\")"
   ]
  },
  {
   "cell_type": "code",
   "execution_count": 20,
   "metadata": {},
   "outputs": [
    {
     "name": "stdout",
     "output_type": "stream",
     "text": [
      "k = 5 weghted by distance: \n"
     ]
    },
    {
     "data": {
      "text/plain": [
       "[<matplotlib.lines.Line2D at 0x1b7679de710>]"
      ]
     },
     "execution_count": 20,
     "metadata": {},
     "output_type": "execute_result"
    },
    {
     "data": {
      "image/png": "[encoded data removed]",
      "text/plain": [
       "<Figure size 432x288 with 1 Axes>"
      ]
     },
     "metadata": {
      "needs_background": "light"
     },
     "output_type": "display_data"
    }
   ],
   "source": [
    "print('k = 5 weghted by distance: ')\n",
    "plt.plot(modelNeighborsCV_k1, \"p\")"
   ]
  },
  {
   "cell_type": "code",
   "execution_count": 21,
   "metadata": {},
   "outputs": [
    {
     "name": "stdout",
     "output_type": "stream",
     "text": [
      "k = 1: \n",
      "0.7404677672955975\n",
      "k = 3: \n",
      "0.7310770440251572\n",
      "k = 5: \n",
      "0.7104323899371069\n",
      "k = 5 weghted by distance: \n",
      "0.7267020440251573\n"
     ]
    }
   ],
   "source": [
    "\n",
    "print('k = 1: ')\n",
    "print(modelNeighborsCV_k1.mean())\n",
    "\n",
    "print('k = 3: ')\n",
    "print(modelNeighborsCV_k3.mean())\n",
    "\n",
    "print('k = 5: ')\n",
    "print(modelNeighborsCV_k5.mean())\n",
    "\n",
    "print('k = 5 weghted by distance: ')\n",
    "print(modelNeighborsCV_k5d.mean())"
   ]
  },
  {
   "cell_type": "markdown",
   "metadata": {},
   "source": [
    "#### แสดงค่าเฉลี่ย model accuracy ของแต่ละ fold"
   ]
  },
  {
   "cell_type": "code",
   "execution_count": 23,
   "metadata": {},
   "outputs": [
    {
     "name": "stdout",
     "output_type": "stream",
     "text": [
      "k = 1 Predicted values:\n",
      "['0' '0' '1' '1' '1' '1' '1' '0' '1' '0' '1' '0' '1' '1' '1' '0' '1' '0'\n",
      " '0' '0' '1' '1' '0' '1' '0' '1' '0' '0' '1' '1' '1' '1' '1' '1' '0' '0'\n",
      " '0' '1' '1' '0' '1' '0' '0' '1' '0' '1' '0' '0' '0' '1' '0' '0' '1' '0'\n",
      " '0' '1' '1' '1' '1' '1' '1' '0' '0' '0' '0' '1' '1' '1' '1' '1' '0' '1'\n",
      " '1' '1' '0' '1' '1' '1' '0' '1' '1' '0' '0' '1' '1' '0' '0' '1' '0' '1'\n",
      " '0' '1' '1' '1' '1' '0' '1' '0' '0' '0' '0' '0' '0' '0' '1' '0' '1' '1'\n",
      " '0' '1' '1' '0' '0' '1' '0' '1' '0' '0' '0' '1' '0' '1' '1' '0' '0' '0'\n",
      " '0' '0' '1' '1' '1' '0' '1' '0' '1' '1' '0' '1' '1' '1' '0' '1' '1' '0'\n",
      " '0' '0' '1' '0' '1' '1' '1' '0' '0' '1' '0' '1' '1' '1' '0' '1']\n",
      "k = 1 Accuracy: 82.5\n"
     ]
    }
   ],
   "source": [
    "from sklearn.neighbors import NearestNeighbors\n",
    "modelNeighbors_k1 = neighbors.KNeighborsClassifier(algorithm='auto', leaf_size=30, metric='minkowski',\n",
    "           metric_params=None, n_jobs=1, n_neighbors=1, p=2,\n",
    "           weights='uniform')\n",
    "modelNeighbors_k1.fit(X_train,y_train)\n",
    "\n",
    "\n",
    "\n",
    "\n",
    "\n",
    "\n",
    "y_pred = modelNeighbors_k1.predict(X_test)\n",
    "\n",
    "print(\"k = 1 Predicted values:\") \n",
    "print(y_pred)\n",
    "\n",
    "print(\"k = 1 Accuracy:\",metrics.accuracy_score(y_test, y_pred)*100)\n"
   ]
  },
  {
   "cell_type": "markdown",
   "metadata": {},
   "source": [
    "### การหาระยะทาง distance\n",
    "#### The Minkowski distance of order ''p'' between two points\n",
    "\n",
    ": $$X=(x_1,x_2,\\ldots,x_n)\\text{ and }Y=(y_1,y_2,\\ldots,y_n) \\in \\mathbb{R}^n$$\n",
    "\n",
    "#### is defined as:\n",
    "\n",
    ":$$D\\left(X,Y\\right)=\\left(\\sum_{i=1}^n |x_i-y_i|^p\\right)^\\frac{1}{p}$$\n",
    "\n",
    "#### ต้องการหาความแตกต่างระหว่าง instance $x_i$ และ $x_j$ และคำนวณระยะทางระหว่าง instance $D\\left(X,Y\\right)$\n"
   ]
  },
  {
   "cell_type": "markdown",
   "metadata": {},
   "source": []
  },
  {
   "cell_type": "markdown",
   "metadata": {},
   "source": []
  },
  {
   "cell_type": "code",
   "execution_count": 24,
   "metadata": {},
   "outputs": [
    {
     "name": "stdout",
     "output_type": "stream",
     "text": [
      "k = 3 Predicted values:\n",
      "['0' '0' '1' '1' '1' '1' '1' '0' '1' '0' '1' '0' '0' '1' '1' '0' '1' '0'\n",
      " '0' '0' '1' '1' '0' '1' '0' '1' '1' '0' '1' '1' '1' '1' '1' '1' '0' '0'\n",
      " '0' '1' '1' '0' '1' '0' '1' '1' '0' '0' '1' '0' '0' '1' '0' '0' '1' '0'\n",
      " '0' '1' '1' '1' '1' '0' '0' '0' '0' '0' '0' '0' '1' '1' '1' '1' '0' '1'\n",
      " '0' '1' '0' '0' '1' '1' '0' '1' '1' '0' '0' '1' '0' '0' '0' '1' '0' '1'\n",
      " '0' '1' '0' '1' '1' '0' '1' '0' '0' '0' '1' '0' '0' '0' '0' '0' '1' '0'\n",
      " '0' '0' '1' '0' '0' '1' '0' '1' '0' '0' '0' '1' '0' '1' '0' '0' '0' '0'\n",
      " '0' '0' '1' '1' '0' '0' '1' '0' '1' '1' '0' '1' '1' '1' '0' '1' '1' '0'\n",
      " '1' '0' '1' '0' '0' '1' '1' '0' '0' '1' '0' '1' '1' '1' '0' '1']\n",
      "k = 3 Accuracy: 80.0\n"
     ]
    }
   ],
   "source": [
    "from sklearn.neighbors import NearestNeighbors\n",
    "modelNeighbors_k3 = neighbors.KNeighborsClassifier(algorithm='auto', leaf_size=30, metric='minkowski',\n",
    "           metric_params=None, n_jobs=1, n_neighbors=3, p=2,\n",
    "           weights='uniform')\n",
    "modelNeighbors_k3.fit(X_train,y_train)\n",
    "\n",
    "\n",
    "\n",
    "\n",
    "\n",
    "\n",
    "y_pred = modelNeighbors_k3.predict(X_test)\n",
    "\n",
    "print(\"k = 3 Predicted values:\") \n",
    "print(y_pred)\n",
    "\n",
    "print(\"k = 3 Accuracy:\",metrics.accuracy_score(y_test, y_pred)*100)"
   ]
  },
  {
   "cell_type": "code",
   "execution_count": 25,
   "metadata": {},
   "outputs": [
    {
     "name": "stdout",
     "output_type": "stream",
     "text": [
      "k = 5 Predicted values:\n",
      "['0' '0' '1' '0' '1' '1' '1' '0' '0' '1' '1' '0' '0' '0' '1' '1' '1' '0'\n",
      " '0' '0' '1' '0' '0' '1' '0' '1' '1' '0' '1' '1' '1' '1' '0' '1' '0' '0'\n",
      " '0' '1' '1' '0' '1' '0' '1' '1' '0' '0' '1' '0' '0' '1' '0' '0' '1' '0'\n",
      " '0' '1' '1' '1' '1' '0' '0' '0' '0' '0' '0' '0' '1' '0' '1' '1' '0' '1'\n",
      " '0' '1' '0' '0' '1' '1' '0' '1' '1' '0' '0' '1' '0' '0' '0' '1' '0' '1'\n",
      " '0' '1' '0' '1' '1' '0' '1' '0' '0' '0' '1' '0' '1' '0' '0' '1' '1' '1'\n",
      " '1' '0' '1' '0' '1' '1' '0' '1' '0' '0' '0' '1' '0' '1' '1' '0' '0' '0'\n",
      " '0' '0' '1' '1' '0' '0' '1' '0' '1' '1' '0' '1' '1' '1' '0' '1' '1' '1'\n",
      " '1' '0' '0' '0' '1' '1' '1' '0' '1' '1' '1' '1' '1' '1' '1' '1']\n",
      "k = 5 Accuracy: 76.25\n"
     ]
    }
   ],
   "source": [
    "from sklearn.neighbors import NearestNeighbors\n",
    "modelNeighbors_k5 = neighbors.KNeighborsClassifier(algorithm='auto', leaf_size=30, metric='minkowski',\n",
    "           metric_params=None, n_jobs=1, n_neighbors=5, p=2,\n",
    "           weights='uniform')\n",
    "modelNeighbors_k5.fit(X_train,y_train)\n",
    "\n",
    "\n",
    "\n",
    "\n",
    "\n",
    "\n",
    "y_pred = modelNeighbors_k5.predict(X_test)\n",
    "\n",
    "print(\"k = 5 Predicted values:\") \n",
    "print(y_pred)\n",
    "\n",
    "print(\"k = 5 Accuracy:\",metrics.accuracy_score(y_test, y_pred)*100)"
   ]
  },
  {
   "cell_type": "code",
   "execution_count": 26,
   "metadata": {},
   "outputs": [
    {
     "name": "stdout",
     "output_type": "stream",
     "text": [
      "k = 5 weighted by distance Predicted values:\n",
      "['0' '0' '1' '1' '1' '1' '1' '0' '0' '1' '1' '0' '0' '1' '1' '1' '1' '0'\n",
      " '0' '0' '1' '0' '0' '1' '0' '1' '1' '0' '1' '1' '1' '1' '0' '1' '0' '0'\n",
      " '0' '1' '1' '0' '1' '0' '1' '1' '0' '1' '1' '0' '0' '1' '0' '0' '1' '0'\n",
      " '0' '1' '1' '1' '1' '0' '0' '0' '0' '0' '0' '0' '1' '1' '1' '1' '0' '1'\n",
      " '1' '1' '0' '0' '1' '1' '0' '1' '1' '0' '0' '1' '0' '0' '0' '1' '0' '1'\n",
      " '0' '1' '0' '1' '1' '0' '1' '0' '0' '0' '0' '0' '0' '0' '0' '0' '1' '1'\n",
      " '0' '1' '1' '0' '1' '1' '0' '1' '0' '0' '0' '1' '0' '1' '1' '0' '0' '0'\n",
      " '0' '0' '1' '1' '1' '0' '1' '0' '1' '1' '0' '1' '1' '1' '0' '1' '1' '1'\n",
      " '1' '0' '0' '0' '1' '1' '1' '0' '0' '1' '1' '1' '1' '1' '1' '1']\n",
      "k = 5 weighted by distance Accuracy: 83.75\n"
     ]
    }
   ],
   "source": [
    "from sklearn.neighbors import NearestNeighbors\n",
    "modelNeighbors_k5d = neighbors.KNeighborsClassifier(algorithm='auto', leaf_size=30, metric='minkowski',\n",
    "           metric_params=None, n_jobs=1, n_neighbors=5, p=2,\n",
    "           weights='distance')\n",
    "modelNeighbors_k5d.fit(X_train,y_train)\n",
    "\n",
    "\n",
    "\n",
    "\n",
    "\n",
    "\n",
    "y_pred = modelNeighbors_k5d.predict(X_test)\n",
    "\n",
    "print(\"k = 5 weighted by distance Predicted values:\") \n",
    "print(y_pred)\n",
    "\n",
    "print(\"k = 5 weighted by distance Accuracy:\",metrics.accuracy_score(y_test, y_pred)*100)"
   ]
  },
  {
   "cell_type": "markdown",
   "metadata": {},
   "source": [
    "### วิเคราะห์และสรุปผลการทดลอง\n",
    " #### 1.กำหนดขนาดของ k = 1 ค่า accuracy = 82.5 % \n",
    " - k = 3 ค่า accuracy = 80 % \n",
    " - k = 5 ค่า accuracy = 76.25 %\n",
    " - k = 5 โดยกำหนดค่า weight ตามระยะห่าง ค่า accuracy = 83.75 %\n",
    " #### จะพบว่าการกำหนดค่า k ที่ 5 และกำหนด weight ตามระยะห่าง มีประสิทธิภาพสุด\n",
    " #### 2.คำนวณระยะห่าง distance ของข้อมูลที่ต้องการพิจารณากับกลุ่มข้อมูลตัวอย่างแบ่งเป็น uniform และ distance\n",
    " #### การกำหนดระยะห่างเป็น distance มีความเหมาะสมกับชุดข้อมูล\n",
    "\n",
    " #### 3.จัดเรียงลำดับของระยะห่าง และเลือกพิจารณาชุดข้อมูลที่ใกล้จุดที่ต้องการพิจารณาตามจำนวน k ที่กำหนดไว้จะใช้ให้มีความแม่นยำในการจำแนกมากชึ้น\n",
    "\n",
    " #### 4.หากพิจารณาข้อมูลจำนวน k ชุด และสังเกตว่า class ไหนที่ใกล้จุดที่พิจารณาเป็นจำนวนมากที่สุดจะถูกจำแนก\n",
    "\n",
    " #### 5.ต้องกำหนด class ให้กับจุดที่พิจารณา\n",
    "\n",
    " k-Nearest Neighbors ทำให้เราทราบประเภทข้อมูลของสิ่งของที่เรายังไม่เคยจำแนกมาก่อนได้ ในการใช้งานจริงยังมีเงื่อนไขบางอย่างที่เราต้องพิจารณาเป็นพิเศษ\n",
    "\n"
   ]
  },
  {
   "cell_type": "code",
   "execution_count": null,
   "metadata": {},
   "outputs": [],
   "source": []
  },
  {
   "cell_type": "code",
   "execution_count": 3,
   "metadata": {},
   "outputs": [],
   "source": [
    "\n"
   ]
  },
  {
   "cell_type": "code",
   "execution_count": null,
   "metadata": {},
   "outputs": [],
   "source": []
  }
 ],
 "metadata": {
  "kernelspec": {
   "display_name": "Python 3",
   "language": "python",
   "name": "python3"
  },
  "language_info": {
   "codemirror_mode": {
    "name": "ipython",
    "version": 3
   },
   "file_extension": ".py",
   "mimetype": "text/x-python",
   "name": "python",
   "nbconvert_exporter": "python",
   "pygments_lexer": "ipython3",
   "version": "3.6.7"
  }
 },
 "nbformat": 4,
 "nbformat_minor": 2
}
